{
 "cells": [
  {
   "metadata": {},
   "cell_type": "markdown",
   "source": "# LLM-based event detection",
   "id": "96608d2fa10a6de6"
  },
  {
   "metadata": {
    "ExecuteTime": {
     "end_time": "2025-09-05T13:12:30.589557Z",
     "start_time": "2025-09-05T13:12:30.587778Z"
    }
   },
   "cell_type": "code",
   "source": "# pip install openai",
   "id": "67b927094c587386",
   "outputs": [],
   "execution_count": 1
  },
  {
   "metadata": {
    "ExecuteTime": {
     "end_time": "2025-09-05T13:12:30.708307Z",
     "start_time": "2025-09-05T13:12:30.706461Z"
    }
   },
   "cell_type": "code",
   "source": "# pip install fastapi-poe",
   "id": "270cb7464a29f11f",
   "outputs": [],
   "execution_count": 2
  },
  {
   "metadata": {
    "ExecuteTime": {
     "end_time": "2025-09-05T13:12:31.263585Z",
     "start_time": "2025-09-05T13:12:30.758909Z"
    }
   },
   "cell_type": "code",
   "source": [
    "import os\n",
    "from dotenv import load_dotenv\n",
    "import openai\n",
    "import pandas as pd\n",
    "\n",
    "from src.vars import OUTPUT_DIR, ROOT_DIR\n",
    "import json\n",
    "import re\n",
    "import time"
   ],
   "id": "fc48acf2925434d2",
   "outputs": [],
   "execution_count": 3
  },
  {
   "metadata": {
    "ExecuteTime": {
     "end_time": "2025-09-05T13:12:31.277553Z",
     "start_time": "2025-09-05T13:12:31.275506Z"
    }
   },
   "cell_type": "code",
   "source": [
    "EXECUTE_LLM = True  # to do not waste resources by mistake\n",
    "EXECUTE_PRELIMINARY_PHASE = False\n",
    "EXTRACT_PRELIMINARY_SAMPLE = False"
   ],
   "id": "c59316c7598c7713",
   "outputs": [],
   "execution_count": 4
  },
  {
   "cell_type": "code",
   "id": "initial_id",
   "metadata": {
    "collapsed": true,
    "ExecuteTime": {
     "end_time": "2025-09-05T13:12:31.384272Z",
     "start_time": "2025-09-05T13:12:31.334713Z"
    }
   },
   "source": "df = pd.read_csv(f'{OUTPUT_DIR}/df_complementary_info_filter_dates_keywords_acronims.csv')",
   "outputs": [],
   "execution_count": 5
  },
  {
   "metadata": {
    "ExecuteTime": {
     "end_time": "2025-09-05T13:12:31.400070Z",
     "start_time": "2025-09-05T13:12:31.393503Z"
    }
   },
   "cell_type": "code",
   "source": [
    "df_llm_output = pd.DataFrame(columns=['case_id', 'output'])\n",
    "if os.path.exists(f'{OUTPUT_DIR}/df_llm_output.csv'):\n",
    "    df_llm_output = pd.read_csv(f'{OUTPUT_DIR}/df_llm_output.csv')\n",
    "\n",
    "if EXECUTE_PRELIMINARY_PHASE:\n",
    "    df_llm_output = pd.DataFrame(columns=['case_id', 'output'])\n",
    "\n",
    "df_llm_output"
   ],
   "id": "bcc0c76da1b1c8a4",
   "outputs": [
    {
     "data": {
      "text/plain": [
       "        case_id                                             output\n",
       "0    219-630869  ['[{\"event\": \"DDG n. 36\", \"date\": \"31/05/2022\"...\n",
       "1    123-350412                                             ['[]']\n",
       "2    153-437453  ['[{\"event\": \"DGC n. 567\", \"date\": \"07/07/2022...\n",
       "3    243-697432  ['[{\"event\": \"DD n. 73/2022\", \"date\": \"28/10/2...\n",
       "4    035-089020                                             ['[]']\n",
       "..          ...                                                ...\n",
       "596  102-284909                                             ['[]']\n",
       "597  114-321551                                             ['[]']\n",
       "598  248-722796                                             ['[]']\n",
       "599  164-467269  ['[{\"event\": \"DD n. 141\", \"date\": \"17/12/2021\"...\n",
       "600  040-103587  ['[{\"event\": \"Provvedimento n. 239 R.G\", \"date...\n",
       "\n",
       "[601 rows x 2 columns]"
      ],
      "text/html": [
       "<div>\n",
       "<style scoped>\n",
       "    .dataframe tbody tr th:only-of-type {\n",
       "        vertical-align: middle;\n",
       "    }\n",
       "\n",
       "    .dataframe tbody tr th {\n",
       "        vertical-align: top;\n",
       "    }\n",
       "\n",
       "    .dataframe thead th {\n",
       "        text-align: right;\n",
       "    }\n",
       "</style>\n",
       "<table border=\"1\" class=\"dataframe\">\n",
       "  <thead>\n",
       "    <tr style=\"text-align: right;\">\n",
       "      <th></th>\n",
       "      <th>case_id</th>\n",
       "      <th>output</th>\n",
       "    </tr>\n",
       "  </thead>\n",
       "  <tbody>\n",
       "    <tr>\n",
       "      <th>0</th>\n",
       "      <td>219-630869</td>\n",
       "      <td>['[{\"event\": \"DDG n. 36\", \"date\": \"31/05/2022\"...</td>\n",
       "    </tr>\n",
       "    <tr>\n",
       "      <th>1</th>\n",
       "      <td>123-350412</td>\n",
       "      <td>['[]']</td>\n",
       "    </tr>\n",
       "    <tr>\n",
       "      <th>2</th>\n",
       "      <td>153-437453</td>\n",
       "      <td>['[{\"event\": \"DGC n. 567\", \"date\": \"07/07/2022...</td>\n",
       "    </tr>\n",
       "    <tr>\n",
       "      <th>3</th>\n",
       "      <td>243-697432</td>\n",
       "      <td>['[{\"event\": \"DD n. 73/2022\", \"date\": \"28/10/2...</td>\n",
       "    </tr>\n",
       "    <tr>\n",
       "      <th>4</th>\n",
       "      <td>035-089020</td>\n",
       "      <td>['[]']</td>\n",
       "    </tr>\n",
       "    <tr>\n",
       "      <th>...</th>\n",
       "      <td>...</td>\n",
       "      <td>...</td>\n",
       "    </tr>\n",
       "    <tr>\n",
       "      <th>596</th>\n",
       "      <td>102-284909</td>\n",
       "      <td>['[]']</td>\n",
       "    </tr>\n",
       "    <tr>\n",
       "      <th>597</th>\n",
       "      <td>114-321551</td>\n",
       "      <td>['[]']</td>\n",
       "    </tr>\n",
       "    <tr>\n",
       "      <th>598</th>\n",
       "      <td>248-722796</td>\n",
       "      <td>['[]']</td>\n",
       "    </tr>\n",
       "    <tr>\n",
       "      <th>599</th>\n",
       "      <td>164-467269</td>\n",
       "      <td>['[{\"event\": \"DD n. 141\", \"date\": \"17/12/2021\"...</td>\n",
       "    </tr>\n",
       "    <tr>\n",
       "      <th>600</th>\n",
       "      <td>040-103587</td>\n",
       "      <td>['[{\"event\": \"Provvedimento n. 239 R.G\", \"date...</td>\n",
       "    </tr>\n",
       "  </tbody>\n",
       "</table>\n",
       "<p>601 rows × 2 columns</p>\n",
       "</div>"
      ]
     },
     "execution_count": 6,
     "metadata": {},
     "output_type": "execute_result"
    }
   ],
   "execution_count": 6
  },
  {
   "metadata": {
    "ExecuteTime": {
     "end_time": "2025-09-05T13:12:31.476276Z",
     "start_time": "2025-09-05T13:12:31.473879Z"
    }
   },
   "cell_type": "code",
   "source": [
    "def extract_json_objects(text):\n",
    "    # Pattern to find potential JSON objects (objects and arrays)\n",
    "    array_pattern = r'(\\[[^\\[\\]]*(\\[[^\\[\\]]*\\][^\\[\\]]*)*\\])'\n",
    "\n",
    "    # Find all potential matches\n",
    "    assert type(text) == str\n",
    "    potential_arrays = re.findall(array_pattern, text)\n",
    "\n",
    "    # Extract just the matched strings\n",
    "    potential_jsons = [match[0] for match in potential_arrays]\n",
    "\n",
    "    # Try to parse each potential match\n",
    "    valid_jsons = []\n",
    "\n",
    "    for json_str in potential_jsons:\n",
    "        try:\n",
    "            # Check if it's valid JSON\n",
    "            json_obj = json.loads(json_str)\n",
    "            valid_jsons.append(json_str)\n",
    "        except json.JSONDecodeError:\n",
    "            # Skip invalid JSON\n",
    "            continue\n",
    "\n",
    "    return [json.dumps(json.loads(obj)) for obj in valid_jsons]"
   ],
   "id": "ed8be21171371fa8",
   "outputs": [],
   "execution_count": 7
  },
  {
   "metadata": {
    "ExecuteTime": {
     "end_time": "2025-09-05T13:12:31.573833Z",
     "start_time": "2025-09-05T13:12:31.571576Z"
    }
   },
   "cell_type": "code",
   "source": [
    "sys_prompt = ''\n",
    "with open(f'{ROOT_DIR}/res/prompts/System Prompt.txt', encoding='utf-8') as file:\n",
    "    sys_prompt = file.read()"
   ],
   "id": "2351492a204d628e",
   "outputs": [],
   "execution_count": 8
  },
  {
   "metadata": {
    "ExecuteTime": {
     "end_time": "2025-09-05T13:12:31.662629Z",
     "start_time": "2025-09-05T13:12:31.659934Z"
    }
   },
   "cell_type": "code",
   "source": [
    "if EXTRACT_PRELIMINARY_SAMPLE:\n",
    "    idx_sample = df.sample(n=10).case_id\n",
    "    idx_sample.to_csv(f'{OUTPUT_DIR}/preliminary_evaluation/idx_sample.csv', index=False)\n",
    "    df = df[df.case_id.isin(idx_sample)]\n",
    "elif EXECUTE_PRELIMINARY_PHASE:\n",
    "    idx_sample = pd.read_csv(f'{OUTPUT_DIR}/preliminary_evaluation/idx_sample.csv').case_id\n",
    "    df = df[df.case_id.isin(idx_sample)]\n",
    "else:\n",
    "    df = df.head(600)"
   ],
   "id": "d077382c0bcc7ee4",
   "outputs": [],
   "execution_count": 9
  },
  {
   "metadata": {
    "ExecuteTime": {
     "end_time": "2025-09-05T13:12:31.712539Z",
     "start_time": "2025-09-05T13:12:31.708590Z"
    }
   },
   "cell_type": "code",
   "source": "df",
   "id": "247e74bc6759c4ab",
   "outputs": [
    {
     "data": {
      "text/plain": [
       "        case_id                                 complementary_info\n",
       "0    219-630869  Atto esito di gara: Provvedimento DG n. 36 del...\n",
       "1    123-350412  RUP: dott.ssa Maria Lomboni. Delibera di aggiu...\n",
       "2    153-437453  1) il bando di gara, il fac-simile modulo di o...\n",
       "3    243-697432  Determinazione Agg.ne AD di Marche Multiserviz...\n",
       "4    035-089020  1) La procedura è gestita con il Sistema telem...\n",
       "..          ...                                                ...\n",
       "595  118-333509  Determinazioni a contrarre e di approvazione d...\n",
       "596  102-284909  La ricezione delle richieste di partecipazione...\n",
       "597  114-321551  La procedura di scelta del contraente si svolg...\n",
       "598  248-722796  La presente procedura viene gestita interament...\n",
       "599  164-467269  Appalto indetto con Determinazione della Respo...\n",
       "\n",
       "[600 rows x 2 columns]"
      ],
      "text/html": [
       "<div>\n",
       "<style scoped>\n",
       "    .dataframe tbody tr th:only-of-type {\n",
       "        vertical-align: middle;\n",
       "    }\n",
       "\n",
       "    .dataframe tbody tr th {\n",
       "        vertical-align: top;\n",
       "    }\n",
       "\n",
       "    .dataframe thead th {\n",
       "        text-align: right;\n",
       "    }\n",
       "</style>\n",
       "<table border=\"1\" class=\"dataframe\">\n",
       "  <thead>\n",
       "    <tr style=\"text-align: right;\">\n",
       "      <th></th>\n",
       "      <th>case_id</th>\n",
       "      <th>complementary_info</th>\n",
       "    </tr>\n",
       "  </thead>\n",
       "  <tbody>\n",
       "    <tr>\n",
       "      <th>0</th>\n",
       "      <td>219-630869</td>\n",
       "      <td>Atto esito di gara: Provvedimento DG n. 36 del...</td>\n",
       "    </tr>\n",
       "    <tr>\n",
       "      <th>1</th>\n",
       "      <td>123-350412</td>\n",
       "      <td>RUP: dott.ssa Maria Lomboni. Delibera di aggiu...</td>\n",
       "    </tr>\n",
       "    <tr>\n",
       "      <th>2</th>\n",
       "      <td>153-437453</td>\n",
       "      <td>1) il bando di gara, il fac-simile modulo di o...</td>\n",
       "    </tr>\n",
       "    <tr>\n",
       "      <th>3</th>\n",
       "      <td>243-697432</td>\n",
       "      <td>Determinazione Agg.ne AD di Marche Multiserviz...</td>\n",
       "    </tr>\n",
       "    <tr>\n",
       "      <th>4</th>\n",
       "      <td>035-089020</td>\n",
       "      <td>1) La procedura è gestita con il Sistema telem...</td>\n",
       "    </tr>\n",
       "    <tr>\n",
       "      <th>...</th>\n",
       "      <td>...</td>\n",
       "      <td>...</td>\n",
       "    </tr>\n",
       "    <tr>\n",
       "      <th>595</th>\n",
       "      <td>118-333509</td>\n",
       "      <td>Determinazioni a contrarre e di approvazione d...</td>\n",
       "    </tr>\n",
       "    <tr>\n",
       "      <th>596</th>\n",
       "      <td>102-284909</td>\n",
       "      <td>La ricezione delle richieste di partecipazione...</td>\n",
       "    </tr>\n",
       "    <tr>\n",
       "      <th>597</th>\n",
       "      <td>114-321551</td>\n",
       "      <td>La procedura di scelta del contraente si svolg...</td>\n",
       "    </tr>\n",
       "    <tr>\n",
       "      <th>598</th>\n",
       "      <td>248-722796</td>\n",
       "      <td>La presente procedura viene gestita interament...</td>\n",
       "    </tr>\n",
       "    <tr>\n",
       "      <th>599</th>\n",
       "      <td>164-467269</td>\n",
       "      <td>Appalto indetto con Determinazione della Respo...</td>\n",
       "    </tr>\n",
       "  </tbody>\n",
       "</table>\n",
       "<p>600 rows × 2 columns</p>\n",
       "</div>"
      ]
     },
     "execution_count": 10,
     "metadata": {},
     "output_type": "execute_result"
    }
   ],
   "execution_count": 10
  },
  {
   "metadata": {
    "ExecuteTime": {
     "end_time": "2025-09-05T13:12:31.787448Z",
     "start_time": "2025-09-05T13:12:31.783243Z"
    }
   },
   "cell_type": "code",
   "source": [
    "def run_prompt(user_message: str, model: str):\n",
    "    time.sleep(3)\n",
    "    result = dict()\n",
    "\n",
    "    response = client.chat.completions.create(\n",
    "        model=model,\n",
    "        messages=[\n",
    "            {\"role\": \"system\", \"content\": sys_prompt},\n",
    "            {\"role\": \"user\", \"content\": user_message}],\n",
    "        stream=True\n",
    "    )\n",
    "    result[model] = ''\n",
    "    for chunk in response:\n",
    "        if chunk.choices[0].delta.content:\n",
    "            result[model] += chunk.choices[0].delta.content\n",
    "    return result\n",
    "\n",
    "def analyse_instances(df, model, idx):\n",
    "    executed_caseid = df_llm_output['case_id'].tolist()\n",
    "\n",
    "    for index, row in df.iterrows():\n",
    "        if row.case_id in executed_caseid:\n",
    "            continue\n",
    "        print(f\"Row id: {index}\")\n",
    "\n",
    "        prompt = prompts[idx]\n",
    "        user_message = prompt % (df[df['case_id'] == row.case_id].iloc[0]['complementary_info'])\n",
    "        new_row = dict()\n",
    "        result = run_prompt(user_message, model)\n",
    "\n",
    "        json_objs = extract_json_objects(result[model])\n",
    "        if len(json_objs) == 1:\n",
    "            json_objects = json_objs[0]\n",
    "        elif len(json_objs) == 0:\n",
    "            result = run_prompt(user_message, model)\n",
    "            json_objs = extract_json_objects(result[model])\n",
    "            if len(json_objs) == 1:\n",
    "                json_objects = json_objs[0]\n",
    "            elif len(json_objs) == 0:\n",
    "                print(f\"Error: no json objects found again in instance {index} -> '{row}'\")\n",
    "                continue\n",
    "\n",
    "        new_row = {\"case_id\": row.case_id, \"output\": json_objs}\n",
    "        df_llm_output.loc[len(df_llm_output)] = new_row\n",
    "\n",
    "        if index % 5 == 0:\n",
    "            print(f\"TED number {index} / {len(df.index)}...\")\n",
    "            if EXECUTE_PRELIMINARY_PHASE:\n",
    "                df_llm_output.to_csv(f'{OUTPUT_DIR}/preliminary_evaluation/prompt_{idx}_{model}.csv', index=False)\n",
    "            else:\n",
    "                df_llm_output.to_csv(f'{OUTPUT_DIR}/df_llm_output.csv', index=False)"
   ],
   "id": "8402f7935bd3dd38",
   "outputs": [],
   "execution_count": 11
  },
  {
   "metadata": {},
   "cell_type": "markdown",
   "source": "## Prompt validation, model selection, execution",
   "id": "a25258c9872b65a4"
  },
  {
   "metadata": {
    "ExecuteTime": {
     "end_time": "2025-09-05T13:12:31.852164Z",
     "start_time": "2025-09-05T13:12:31.850290Z"
    }
   },
   "cell_type": "code",
   "source": [
    "prompts = [\"\", \"\", \"\"]\n",
    "with open(f'{ROOT_DIR}/res/prompts/prompt1 - zero shot.txt', encoding='utf-8') as file:\n",
    "    prompts[0] = file.read()"
   ],
   "id": "22a3e40e6600d41e",
   "outputs": [],
   "execution_count": 12
  },
  {
   "metadata": {
    "ExecuteTime": {
     "end_time": "2025-09-05T13:12:31.922402Z",
     "start_time": "2025-09-05T13:12:31.919178Z"
    }
   },
   "cell_type": "code",
   "source": [
    "prompts[1] = \"\"\n",
    "with open(f'{ROOT_DIR}/res/prompts/prompt2 - few shot.txt', encoding='utf-8') as file:\n",
    "    prompts[1] = file.read()"
   ],
   "id": "e4c71bb877dbe51",
   "outputs": [],
   "execution_count": 13
  },
  {
   "metadata": {
    "ExecuteTime": {
     "end_time": "2025-09-05T13:12:31.973048Z",
     "start_time": "2025-09-05T13:12:31.971171Z"
    }
   },
   "cell_type": "code",
   "source": [
    "prompts[2] = \"\"\n",
    "with open(f'{ROOT_DIR}/res/prompts/prompt3 - chain of thoughts.txt', encoding='utf-8') as file:\n",
    "    prompts[2] = file.read()"
   ],
   "id": "b6c55205c434f1d2",
   "outputs": [],
   "execution_count": 14
  },
  {
   "metadata": {
    "ExecuteTime": {
     "end_time": "2025-09-05T13:12:32.086541Z",
     "start_time": "2025-09-05T13:12:32.021192Z"
    }
   },
   "cell_type": "code",
   "source": [
    "if EXECUTE_LLM:\n",
    "    load_dotenv()\n",
    "    client = openai.OpenAI(\n",
    "      api_key=os.getenv('POE_API_KEY'),\n",
    "      base_url=\"https://api.poe.com/v1\",\n",
    "    )\n",
    "\n",
    "    if EXECUTE_PRELIMINARY_PHASE:\n",
    "        models = [\"Llama-3.1-8B\", \"GPT-4o\", \"Claude-Sonnet-4\"]\n",
    "\n",
    "        for idx, prompt in enumerate(prompts):\n",
    "            for model in models:\n",
    "                print(f\"{model} - prompt {idx}\")\n",
    "                analyse_instances(df, model, idx)\n",
    "    else:\n",
    "        model = \"Claude-Sonnet-4\"\n",
    "        idx = 2\n",
    "        print(f\"{model} - prompt {idx}\")\n",
    "        analyse_instances(df, model, idx)"
   ],
   "id": "f79cd69afdc05d7",
   "outputs": [
    {
     "name": "stdout",
     "output_type": "stream",
     "text": [
      "Claude-Sonnet-4 - prompt 2\n"
     ]
    }
   ],
   "execution_count": 15
  },
  {
   "metadata": {
    "ExecuteTime": {
     "end_time": "2025-09-05T13:12:32.101245Z",
     "start_time": "2025-09-05T13:12:32.096732Z"
    }
   },
   "cell_type": "code",
   "source": "df_llm_output",
   "id": "d49492f90744a4ad",
   "outputs": [
    {
     "data": {
      "text/plain": [
       "        case_id                                             output\n",
       "0    219-630869  ['[{\"event\": \"DDG n. 36\", \"date\": \"31/05/2022\"...\n",
       "1    123-350412                                             ['[]']\n",
       "2    153-437453  ['[{\"event\": \"DGC n. 567\", \"date\": \"07/07/2022...\n",
       "3    243-697432  ['[{\"event\": \"DD n. 73/2022\", \"date\": \"28/10/2...\n",
       "4    035-089020                                             ['[]']\n",
       "..          ...                                                ...\n",
       "596  102-284909                                             ['[]']\n",
       "597  114-321551                                             ['[]']\n",
       "598  248-722796                                             ['[]']\n",
       "599  164-467269  ['[{\"event\": \"DD n. 141\", \"date\": \"17/12/2021\"...\n",
       "600  040-103587  ['[{\"event\": \"Provvedimento n. 239 R.G\", \"date...\n",
       "\n",
       "[601 rows x 2 columns]"
      ],
      "text/html": [
       "<div>\n",
       "<style scoped>\n",
       "    .dataframe tbody tr th:only-of-type {\n",
       "        vertical-align: middle;\n",
       "    }\n",
       "\n",
       "    .dataframe tbody tr th {\n",
       "        vertical-align: top;\n",
       "    }\n",
       "\n",
       "    .dataframe thead th {\n",
       "        text-align: right;\n",
       "    }\n",
       "</style>\n",
       "<table border=\"1\" class=\"dataframe\">\n",
       "  <thead>\n",
       "    <tr style=\"text-align: right;\">\n",
       "      <th></th>\n",
       "      <th>case_id</th>\n",
       "      <th>output</th>\n",
       "    </tr>\n",
       "  </thead>\n",
       "  <tbody>\n",
       "    <tr>\n",
       "      <th>0</th>\n",
       "      <td>219-630869</td>\n",
       "      <td>['[{\"event\": \"DDG n. 36\", \"date\": \"31/05/2022\"...</td>\n",
       "    </tr>\n",
       "    <tr>\n",
       "      <th>1</th>\n",
       "      <td>123-350412</td>\n",
       "      <td>['[]']</td>\n",
       "    </tr>\n",
       "    <tr>\n",
       "      <th>2</th>\n",
       "      <td>153-437453</td>\n",
       "      <td>['[{\"event\": \"DGC n. 567\", \"date\": \"07/07/2022...</td>\n",
       "    </tr>\n",
       "    <tr>\n",
       "      <th>3</th>\n",
       "      <td>243-697432</td>\n",
       "      <td>['[{\"event\": \"DD n. 73/2022\", \"date\": \"28/10/2...</td>\n",
       "    </tr>\n",
       "    <tr>\n",
       "      <th>4</th>\n",
       "      <td>035-089020</td>\n",
       "      <td>['[]']</td>\n",
       "    </tr>\n",
       "    <tr>\n",
       "      <th>...</th>\n",
       "      <td>...</td>\n",
       "      <td>...</td>\n",
       "    </tr>\n",
       "    <tr>\n",
       "      <th>596</th>\n",
       "      <td>102-284909</td>\n",
       "      <td>['[]']</td>\n",
       "    </tr>\n",
       "    <tr>\n",
       "      <th>597</th>\n",
       "      <td>114-321551</td>\n",
       "      <td>['[]']</td>\n",
       "    </tr>\n",
       "    <tr>\n",
       "      <th>598</th>\n",
       "      <td>248-722796</td>\n",
       "      <td>['[]']</td>\n",
       "    </tr>\n",
       "    <tr>\n",
       "      <th>599</th>\n",
       "      <td>164-467269</td>\n",
       "      <td>['[{\"event\": \"DD n. 141\", \"date\": \"17/12/2021\"...</td>\n",
       "    </tr>\n",
       "    <tr>\n",
       "      <th>600</th>\n",
       "      <td>040-103587</td>\n",
       "      <td>['[{\"event\": \"Provvedimento n. 239 R.G\", \"date...</td>\n",
       "    </tr>\n",
       "  </tbody>\n",
       "</table>\n",
       "<p>601 rows × 2 columns</p>\n",
       "</div>"
      ]
     },
     "execution_count": 16,
     "metadata": {},
     "output_type": "execute_result"
    }
   ],
   "execution_count": 16
  },
  {
   "metadata": {
    "ExecuteTime": {
     "end_time": "2025-09-05T13:12:32.174046Z",
     "start_time": "2025-09-05T13:12:32.171662Z"
    }
   },
   "cell_type": "code",
   "source": [
    "print(\"Correct instances (manual annotation) after the Preliminary Phase:\")\n",
    "\n",
    "print(\"\\nPrompt 0 - Claude-Sonnet-4: 8/10\")\n",
    "print(\"Prompt 0 - GPT-4o: 7/10\")\n",
    "print(\"Prompt 0 - Llama-3.1-8B: 2/10\")\n",
    "\n",
    "print(\"\\nPrompt 1 - Claude-Sonnet-4: 7/10\")\n",
    "print(\"Prompt 1 - GPT-4o: 7/10\")\n",
    "print(\"Prompt 1 - Llama-3.1-8B: 6/10\")\n",
    "\n",
    "print(\"\\nPrompt 2 - Claude-Sonnet-4: 9/10\")\n",
    "print(\"Prompt 2 - GPT-4o: 8/10\")\n",
    "print(\"Prompt 2 - Llama-3.1-8B: 4/10\")\n",
    "\n",
    "print(\"Chosen combination: Prompt 2 - Claude-Sonnet-4\")"
   ],
   "id": "6711df774bc888bd",
   "outputs": [
    {
     "name": "stdout",
     "output_type": "stream",
     "text": [
      "Correct instances (manual annotation) after the Preliminary Phase:\n",
      "\n",
      "Prompt 0 - Claude-Sonnet-4: 8/10\n",
      "Prompt 0 - GPT-4o: 7/10\n",
      "Prompt 0 - Llama-3.1-8B: 2/10\n",
      "\n",
      "Prompt 1 - Claude-Sonnet-4: 7/10\n",
      "Prompt 1 - GPT-4o: 7/10\n",
      "Prompt 1 - Llama-3.1-8B: 6/10\n",
      "\n",
      "Prompt 2 - Claude-Sonnet-4: 9/10\n",
      "Prompt 2 - GPT-4o: 8/10\n",
      "Prompt 2 - Llama-3.1-8B: 4/10\n",
      "Chosen combination: Prompt 2 - Claude-Sonnet-4\n"
     ]
    }
   ],
   "execution_count": 17
  }
 ],
 "metadata": {
  "kernelspec": {
   "display_name": "Python 3",
   "language": "python",
   "name": "python3"
  },
  "language_info": {
   "codemirror_mode": {
    "name": "ipython",
    "version": 2
   },
   "file_extension": ".py",
   "mimetype": "text/x-python",
   "name": "python",
   "nbconvert_exporter": "python",
   "pygments_lexer": "ipython2",
   "version": "2.7.6"
  }
 },
 "nbformat": 4,
 "nbformat_minor": 5
}
