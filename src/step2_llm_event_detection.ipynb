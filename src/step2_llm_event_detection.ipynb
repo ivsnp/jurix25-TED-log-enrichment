{
 "cells": [
  {
   "metadata": {},
   "cell_type": "markdown",
   "source": "# LLM-based event detection",
   "id": "96608d2fa10a6de6"
  },
  {
   "metadata": {
    "ExecuteTime": {
     "end_time": "2025-09-04T08:44:17.791721Z",
     "start_time": "2025-09-04T08:44:17.789066Z"
    }
   },
   "cell_type": "code",
   "source": "# pip install openai",
   "id": "67b927094c587386",
   "outputs": [],
   "execution_count": 1
  },
  {
   "metadata": {
    "ExecuteTime": {
     "end_time": "2025-09-04T08:44:17.858189Z",
     "start_time": "2025-09-04T08:44:17.856345Z"
    }
   },
   "cell_type": "code",
   "source": "# pip install fastapi-poe",
   "id": "270cb7464a29f11f",
   "outputs": [],
   "execution_count": 2
  },
  {
   "metadata": {
    "ExecuteTime": {
     "end_time": "2025-09-04T08:44:18.751276Z",
     "start_time": "2025-09-04T08:44:17.958232Z"
    }
   },
   "cell_type": "code",
   "source": [
    "import os\n",
    "from dotenv import load_dotenv\n",
    "import openai\n",
    "import pandas as pd\n",
    "\n",
    "from src.vars import OUTPUT_DIR, ROOT_DIR\n",
    "import json\n",
    "import re\n",
    "import time"
   ],
   "id": "fc48acf2925434d2",
   "outputs": [],
   "execution_count": 3
  },
  {
   "metadata": {
    "ExecuteTime": {
     "end_time": "2025-09-04T08:57:54.690235Z",
     "start_time": "2025-09-04T08:57:54.687552Z"
    }
   },
   "cell_type": "code",
   "source": [
    "EXECUTE_LLM = False  # to do not waste resources by mistake\n",
    "EXECUTE_PRELIMINARY_PHASE = False\n",
    "EXTRACT_PRELIMINARY_SAMPLE = False"
   ],
   "id": "c59316c7598c7713",
   "outputs": [],
   "execution_count": 19
  },
  {
   "cell_type": "code",
   "id": "initial_id",
   "metadata": {
    "collapsed": true,
    "ExecuteTime": {
     "end_time": "2025-09-04T08:57:55.427633Z",
     "start_time": "2025-09-04T08:57:55.394983Z"
    }
   },
   "source": "df = pd.read_csv(f'{OUTPUT_DIR}/df_complementary_info_filter_dates_keywords_acronims.csv')",
   "outputs": [],
   "execution_count": 20
  },
  {
   "metadata": {
    "ExecuteTime": {
     "end_time": "2025-09-04T08:57:55.970371Z",
     "start_time": "2025-09-04T08:57:55.966245Z"
    }
   },
   "cell_type": "code",
   "source": [
    "if os.path.exists(f'{OUTPUT_DIR}/llm_output.csv'):\n",
    "    df_llm_output = pd.read_csv(f'{OUTPUT_DIR}/df_llm_output.csv')\n",
    "else:\n",
    "    df_llm_output = pd.DataFrame(columns=['case_id', 'output'])\n",
    "df_llm_output"
   ],
   "id": "bcc0c76da1b1c8a4",
   "outputs": [
    {
     "data": {
      "text/plain": [
       "Empty DataFrame\n",
       "Columns: [case_id, output]\n",
       "Index: []"
      ],
      "text/html": [
       "<div>\n",
       "<style scoped>\n",
       "    .dataframe tbody tr th:only-of-type {\n",
       "        vertical-align: middle;\n",
       "    }\n",
       "\n",
       "    .dataframe tbody tr th {\n",
       "        vertical-align: top;\n",
       "    }\n",
       "\n",
       "    .dataframe thead th {\n",
       "        text-align: right;\n",
       "    }\n",
       "</style>\n",
       "<table border=\"1\" class=\"dataframe\">\n",
       "  <thead>\n",
       "    <tr style=\"text-align: right;\">\n",
       "      <th></th>\n",
       "      <th>case_id</th>\n",
       "      <th>output</th>\n",
       "    </tr>\n",
       "  </thead>\n",
       "  <tbody>\n",
       "  </tbody>\n",
       "</table>\n",
       "</div>"
      ]
     },
     "execution_count": 21,
     "metadata": {},
     "output_type": "execute_result"
    }
   ],
   "execution_count": 21
  },
  {
   "metadata": {
    "ExecuteTime": {
     "end_time": "2025-09-04T08:57:56.601419Z",
     "start_time": "2025-09-04T08:57:56.598621Z"
    }
   },
   "cell_type": "code",
   "source": [
    "def extract_json_objects(text):\n",
    "    # Pattern to find potential JSON objects (objects and arrays)\n",
    "    array_pattern = r'(\\[[^\\[\\]]*(\\[[^\\[\\]]*\\][^\\[\\]]*)*\\])'\n",
    "\n",
    "    # Find all potential matches\n",
    "    assert type(text) == str\n",
    "    potential_arrays = re.findall(array_pattern, text)\n",
    "\n",
    "    # Extract just the matched strings\n",
    "    potential_jsons = [match[0] for match in potential_arrays]\n",
    "\n",
    "    # Try to parse each potential match\n",
    "    valid_jsons = []\n",
    "\n",
    "    for json_str in potential_jsons:\n",
    "        try:\n",
    "            # Check if it's valid JSON\n",
    "            json_obj = json.loads(json_str)\n",
    "            valid_jsons.append(json_str)\n",
    "        except json.JSONDecodeError:\n",
    "            # Skip invalid JSON\n",
    "            continue\n",
    "\n",
    "    return [json.dumps(json.loads(obj)) for obj in valid_jsons]"
   ],
   "id": "ed8be21171371fa8",
   "outputs": [],
   "execution_count": 22
  },
  {
   "metadata": {
    "ExecuteTime": {
     "end_time": "2025-09-04T08:57:57.316359Z",
     "start_time": "2025-09-04T08:57:57.313906Z"
    }
   },
   "cell_type": "code",
   "source": [
    "sys_prompt = ''\n",
    "with open(f'{ROOT_DIR}/res/prompts/System Prompt.txt', encoding='utf-8') as file:\n",
    "    sys_prompt = file.read()"
   ],
   "id": "2351492a204d628e",
   "outputs": [],
   "execution_count": 23
  },
  {
   "metadata": {
    "ExecuteTime": {
     "end_time": "2025-09-04T08:58:04.918021Z",
     "start_time": "2025-09-04T08:58:04.911537Z"
    }
   },
   "cell_type": "code",
   "source": [
    "if EXTRACT_PRELIMINARY_SAMPLE:\n",
    "    idx_sample = df.sample(n=10).case_id\n",
    "    idx_sample.to_csv(f'{OUTPUT_DIR}/preliminary_evaluation/idx_sample.csv', index=False)\n",
    "    df = df[df.case_id.isin(idx_sample)]\n",
    "elif EXECUTE_PRELIMINARY_PHASE:\n",
    "    idx_sample = pd.read_csv(f'{OUTPUT_DIR}/preliminary_evaluation/idx_sample.csv').case_id\n",
    "    df = df[df.case_id.isin(idx_sample)]"
   ],
   "id": "d077382c0bcc7ee4",
   "outputs": [],
   "execution_count": 24
  },
  {
   "metadata": {
    "ExecuteTime": {
     "end_time": "2025-09-04T08:58:05.427276Z",
     "start_time": "2025-09-04T08:58:05.423182Z"
    }
   },
   "cell_type": "code",
   "source": "df",
   "id": "247e74bc6759c4ab",
   "outputs": [
    {
     "data": {
      "text/plain": [
       "         case_id                                 complementary_info\n",
       "667   223-638730  Codice CIG: 922420351E (Deliberazione dell’aut...\n",
       "928   021-051428  Si rinvia al Disciplinare. Ai sensi dell‘art. ...\n",
       "1062  248-716991  1) Si procederà all'aggiudicazione anche in pr...\n",
       "1241  067-177404  Si precisa che il termine perentorio di presen...\n",
       "1334  235-678939  LA PRESENTE PROCEDURA SI È SVOLTA ATTRAVERSO U...\n",
       "1512  147-421403  Decreto dirigenziale di aggiudicazione efficac...\n",
       "1567  209-597746  La gara è identificata con CIG dell’Autorità N...\n",
       "2148  070-185352  La procedura viene svolta attraverso la piatta...\n",
       "2553  105-294339  INFORMAZIONI RELATIVE AI LOTTI (segue dal punt...\n",
       "2612  145-415881  Il disciplinare di gara è stato redatto nel ri..."
      ],
      "text/html": [
       "<div>\n",
       "<style scoped>\n",
       "    .dataframe tbody tr th:only-of-type {\n",
       "        vertical-align: middle;\n",
       "    }\n",
       "\n",
       "    .dataframe tbody tr th {\n",
       "        vertical-align: top;\n",
       "    }\n",
       "\n",
       "    .dataframe thead th {\n",
       "        text-align: right;\n",
       "    }\n",
       "</style>\n",
       "<table border=\"1\" class=\"dataframe\">\n",
       "  <thead>\n",
       "    <tr style=\"text-align: right;\">\n",
       "      <th></th>\n",
       "      <th>case_id</th>\n",
       "      <th>complementary_info</th>\n",
       "    </tr>\n",
       "  </thead>\n",
       "  <tbody>\n",
       "    <tr>\n",
       "      <th>667</th>\n",
       "      <td>223-638730</td>\n",
       "      <td>Codice CIG: 922420351E (Deliberazione dell’aut...</td>\n",
       "    </tr>\n",
       "    <tr>\n",
       "      <th>928</th>\n",
       "      <td>021-051428</td>\n",
       "      <td>Si rinvia al Disciplinare. Ai sensi dell‘art. ...</td>\n",
       "    </tr>\n",
       "    <tr>\n",
       "      <th>1062</th>\n",
       "      <td>248-716991</td>\n",
       "      <td>1) Si procederà all'aggiudicazione anche in pr...</td>\n",
       "    </tr>\n",
       "    <tr>\n",
       "      <th>1241</th>\n",
       "      <td>067-177404</td>\n",
       "      <td>Si precisa che il termine perentorio di presen...</td>\n",
       "    </tr>\n",
       "    <tr>\n",
       "      <th>1334</th>\n",
       "      <td>235-678939</td>\n",
       "      <td>LA PRESENTE PROCEDURA SI È SVOLTA ATTRAVERSO U...</td>\n",
       "    </tr>\n",
       "    <tr>\n",
       "      <th>1512</th>\n",
       "      <td>147-421403</td>\n",
       "      <td>Decreto dirigenziale di aggiudicazione efficac...</td>\n",
       "    </tr>\n",
       "    <tr>\n",
       "      <th>1567</th>\n",
       "      <td>209-597746</td>\n",
       "      <td>La gara è identificata con CIG dell’Autorità N...</td>\n",
       "    </tr>\n",
       "    <tr>\n",
       "      <th>2148</th>\n",
       "      <td>070-185352</td>\n",
       "      <td>La procedura viene svolta attraverso la piatta...</td>\n",
       "    </tr>\n",
       "    <tr>\n",
       "      <th>2553</th>\n",
       "      <td>105-294339</td>\n",
       "      <td>INFORMAZIONI RELATIVE AI LOTTI (segue dal punt...</td>\n",
       "    </tr>\n",
       "    <tr>\n",
       "      <th>2612</th>\n",
       "      <td>145-415881</td>\n",
       "      <td>Il disciplinare di gara è stato redatto nel ri...</td>\n",
       "    </tr>\n",
       "  </tbody>\n",
       "</table>\n",
       "</div>"
      ]
     },
     "execution_count": 25,
     "metadata": {},
     "output_type": "execute_result"
    }
   ],
   "execution_count": 25
  },
  {
   "metadata": {
    "ExecuteTime": {
     "end_time": "2025-09-04T08:44:19.303948Z",
     "start_time": "2025-09-04T08:44:19.300115Z"
    }
   },
   "cell_type": "code",
   "source": [
    "def run_prompt(user_message: str, model: str):\n",
    "    # time.sleep(3)\n",
    "    result = dict()\n",
    "\n",
    "    response = client.chat.completions.create(\n",
    "        model=model,\n",
    "        messages=[\n",
    "            {\"role\": \"system\", \"content\": sys_prompt},\n",
    "            {\"role\": \"user\", \"content\": user_message}],\n",
    "        stream=True\n",
    "    )\n",
    "    result[model] = ''\n",
    "    for chunk in response:\n",
    "        if chunk.choices[0].delta.content:\n",
    "            result[model] += chunk.choices[0].delta.content\n",
    "    return result\n",
    "\n",
    "def analyse_instances(df, model, idx):\n",
    "    if EXECUTE_PRELIMINARY_PHASE:\n",
    "        df_llm_output = pd.DataFrame(columns=['case_id', 'output'])\n",
    "    executed_caseid = df_llm_output['case_id'].tolist()\n",
    "\n",
    "    for index, row in df.iterrows():\n",
    "        if row.case_id in executed_caseid:\n",
    "            continue\n",
    "        print(f\"Row id: {index}\")\n",
    "\n",
    "        user_message = prompt % (df[df['case_id'] == row.case_id].iloc[0]['complementary_info'])\n",
    "        new_row = dict()\n",
    "        result = run_prompt(user_message, model)\n",
    "\n",
    "        json_objs = extract_json_objects(result[model])\n",
    "        if len(json_objs) == 1:\n",
    "            json_objects = json_objs[0]\n",
    "        elif len(json_objs) == 0:\n",
    "            result = run_prompt(user_message, model)\n",
    "            json_objs = extract_json_objects(result[model])\n",
    "            if len(json_objs) == 1:\n",
    "                json_objects = json_objs[0]\n",
    "            elif len(json_objs) == 0:\n",
    "                print(f\"Error: no json objects found again in instance {index} -> '{row}'\")\n",
    "                continue\n",
    "\n",
    "        time.sleep(5)\n",
    "        new_row = {\"case_id\": row.case_id, \"output\": json_objs}\n",
    "        df_llm_output.loc[len(df_llm_output)] = new_row\n",
    "\n",
    "        if index % 5 == 0:\n",
    "            if EXECUTE_PRELIMINARY_PHASE:\n",
    "                df_llm_output.to_csv(f'{OUTPUT_DIR}/preliminary_evaluation/prompt_{idx}_{model}.csv', index=False)\n",
    "            else:\n",
    "                df_llm_output.to_csv(f'{OUTPUT_DIR}/llm_output.csv', index=False)"
   ],
   "id": "8402f7935bd3dd38",
   "outputs": [],
   "execution_count": 11
  },
  {
   "metadata": {},
   "cell_type": "markdown",
   "source": "## Prompt validation and model selection",
   "id": "a25258c9872b65a4"
  },
  {
   "metadata": {
    "ExecuteTime": {
     "end_time": "2025-09-04T08:44:19.384065Z",
     "start_time": "2025-09-04T08:44:19.381471Z"
    }
   },
   "cell_type": "code",
   "source": [
    "prompts = [\"\", \"\", \"\"]\n",
    "with open(f'{ROOT_DIR}/res/prompts/prompt1 - zero shot.txt', encoding='utf-8') as file:\n",
    "    prompts[0] = file.read()"
   ],
   "id": "22a3e40e6600d41e",
   "outputs": [],
   "execution_count": 12
  },
  {
   "metadata": {
    "ExecuteTime": {
     "end_time": "2025-09-04T08:44:19.453464Z",
     "start_time": "2025-09-04T08:44:19.450883Z"
    }
   },
   "cell_type": "code",
   "source": [
    "prompts[1] = \"\"\n",
    "with open(f'{ROOT_DIR}/res/prompts/prompt2 - few shot.txt', encoding='utf-8') as file:\n",
    "    prompts[1] = file.read()"
   ],
   "id": "e4c71bb877dbe51",
   "outputs": [],
   "execution_count": 13
  },
  {
   "metadata": {
    "ExecuteTime": {
     "end_time": "2025-09-04T08:44:19.513028Z",
     "start_time": "2025-09-04T08:44:19.510971Z"
    }
   },
   "cell_type": "code",
   "source": [
    "prompts[2] = \"\"\n",
    "with open(f'{ROOT_DIR}/res/prompts/prompt3 - chain of thoughts.txt', encoding='utf-8') as file:\n",
    "    prompts[2] = file.read()"
   ],
   "id": "b6c55205c434f1d2",
   "outputs": [],
   "execution_count": 14
  },
  {
   "metadata": {
    "ExecuteTime": {
     "end_time": "2025-09-04T08:44:19.561372Z",
     "start_time": "2025-09-04T08:44:19.559352Z"
    }
   },
   "cell_type": "code",
   "source": [
    "if EXECUTE_LLM:\n",
    "    load_dotenv()\n",
    "    client = openai.OpenAI(\n",
    "      api_key=os.getenv('POE_API_KEY'),\n",
    "      base_url=\"https://api.poe.com/v1\",\n",
    "    )\n",
    "\n",
    "    if EXECUTE_PRELIMINARY_PHASE:\n",
    "        models = [\"Llama-3.1-8B\", \"GPT-4o\", \"Claude-Sonnet-4\"]\n",
    "    else:\n",
    "        models = [\"Claude-Sonnet-4\"]\n",
    "\n",
    "    for idx, prompt in enumerate(prompts):\n",
    "        for model in models:\n",
    "            print(f\"{model} - prompt {idx}\")\n",
    "            analyse_instances(df, model, idx)"
   ],
   "id": "f79cd69afdc05d7",
   "outputs": [],
   "execution_count": 15
  },
  {
   "metadata": {
    "ExecuteTime": {
     "end_time": "2025-09-04T08:44:19.619340Z",
     "start_time": "2025-09-04T08:44:19.615800Z"
    }
   },
   "cell_type": "code",
   "source": "df_llm_output",
   "id": "d49492f90744a4ad",
   "outputs": [
    {
     "data": {
      "text/plain": [
       "Empty DataFrame\n",
       "Columns: [case_id, output]\n",
       "Index: []"
      ],
      "text/html": [
       "<div>\n",
       "<style scoped>\n",
       "    .dataframe tbody tr th:only-of-type {\n",
       "        vertical-align: middle;\n",
       "    }\n",
       "\n",
       "    .dataframe tbody tr th {\n",
       "        vertical-align: top;\n",
       "    }\n",
       "\n",
       "    .dataframe thead th {\n",
       "        text-align: right;\n",
       "    }\n",
       "</style>\n",
       "<table border=\"1\" class=\"dataframe\">\n",
       "  <thead>\n",
       "    <tr style=\"text-align: right;\">\n",
       "      <th></th>\n",
       "      <th>case_id</th>\n",
       "      <th>output</th>\n",
       "    </tr>\n",
       "  </thead>\n",
       "  <tbody>\n",
       "  </tbody>\n",
       "</table>\n",
       "</div>"
      ]
     },
     "execution_count": 16,
     "metadata": {},
     "output_type": "execute_result"
    }
   ],
   "execution_count": 16
  },
  {
   "metadata": {
    "ExecuteTime": {
     "end_time": "2025-09-04T16:28:59.589749Z",
     "start_time": "2025-09-04T16:28:59.583959Z"
    }
   },
   "cell_type": "code",
   "source": [
    "print(\"Correct instances (manual annotation):\")\n",
    "\n",
    "print(\"\\nPrompt 0 - Claude-Sonnet-4: 8/10\")\n",
    "print(\"Prompt 0 - GPT-4o: 7/10\")\n",
    "print(\"Prompt 0 - Llama-3.1-8B: 2/10\")\n",
    "\n",
    "print(\"\\nPrompt 1 - Claude-Sonnet-4: 7/10\")\n",
    "print(\"Prompt 1 - GPT-4o: 7/10\")\n",
    "print(\"Prompt 1 - Llama-3.1-8B: 6/10\")\n",
    "\n",
    "print(\"\\nPrompt 2 - Claude-Sonnet-4: 9/10\")\n",
    "print(\"Prompt 2 - GPT-4o: 8/10\")\n",
    "print(\"Prompt 2 - Llama-3.1-8B: 4/10\")"
   ],
   "id": "6711df774bc888bd",
   "outputs": [
    {
     "name": "stdout",
     "output_type": "stream",
     "text": [
      "Correct instances:\n",
      "\n",
      "Prompt 0 - Claude-Sonnet-4: 8/10\n",
      "Prompt 0 - GPT-4o: 7/10\n",
      "Prompt 0 - Llama-3.1-8B: 2/10\n",
      "\n",
      "Prompt 1 - Claude-Sonnet-4: 7/10\n",
      "Prompt 1 - GPT-4o: 7/10\n",
      "Prompt 1 - Llama-3.1-8B: 6/10\n",
      "\n",
      "Prompt 2 - Claude-Sonnet-4: 9/10\n",
      "Prompt 2 - GPT-4o: 8/10\n",
      "Prompt 2 - Llama-3.1-8B: 4/10\n"
     ]
    }
   ],
   "execution_count": 1
  },
  {
   "metadata": {
    "ExecuteTime": {
     "end_time": "2025-09-04T08:44:19.757445Z",
     "start_time": "2025-09-04T08:44:19.756001Z"
    }
   },
   "cell_type": "code",
   "source": [
    "# todo:\n",
    "#  - esecuzione completa"
   ],
   "id": "1a779330dfcfff5b",
   "outputs": [],
   "execution_count": 18
  }
 ],
 "metadata": {
  "kernelspec": {
   "display_name": "Python 3",
   "language": "python",
   "name": "python3"
  },
  "language_info": {
   "codemirror_mode": {
    "name": "ipython",
    "version": 2
   },
   "file_extension": ".py",
   "mimetype": "text/x-python",
   "name": "python",
   "nbconvert_exporter": "python",
   "pygments_lexer": "ipython2",
   "version": "2.7.6"
  }
 },
 "nbformat": 4,
 "nbformat_minor": 5
}
